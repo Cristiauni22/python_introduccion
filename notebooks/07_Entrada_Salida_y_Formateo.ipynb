{
 "cells": [
  {
   "cell_type": "markdown",
   "metadata": {},
   "source": [
    "# 7) Entrada/Salida y formateo\n",
    "\n",
    "## ¿Qué es?\n",
    "La **interacción por consola**: leer con `input()` y mostrar con `print()`.\n",
    "\n",
    "## ¿Para qué se usa?\n",
    "Para **recoger datos del usuario** y **presentar resultados** con buen formato.\n",
    "\n",
    "## Claves de formateo\n",
    "- f-strings: `f\"{valor:.2f}\"`\n",
    "- `sep` y `end` en `print`\n",
    "- Conversión explícita de tipos al leer (`int`, `float`)\n"
   ]
  },
  {
   "cell_type": "code",
   "execution_count": null,
   "metadata": {},
   "outputs": [],
   "source": [
    "# Suma con formateo\n",
    "a = 12.3456\n",
    "b = 7.8\n",
    "print(f\"Suma: {a + b:.2f}\")\n",
    "print(\"uno\", \"dos\", \"tres\", sep=\" | \", end=\"\")\n"
   ]
  },
  {
   "cell_type": "markdown",
   "metadata": {},
   "source": [
    "### Ejercicios\n",
    "- E1: Pide nombre y año de nacimiento; calcula edad.\n",
    "- E2: Factura: subtotal, IVA (19%), total con 2 decimales.\n",
    "- E3: “Ficha” multi-línea con `\\n` y f-strings.\n",
    "\n",
    "### Reto extra\n",
    "Lee tres notas y muestra promedio, mínima, máxima y si aprueba (>=3.0).\n"
   ]
  },
  {
   "cell_type": "code",
   "execution_count": null,
   "id": "b7498625",
   "metadata": {},
   "outputs": [],
   "source": [
    "def normalizar(nombre):\n",
    "    nombre = nombre.strip().title()\n",
    "    return nombre\n",
    "\n",
    "nombre = \" cristian david \"\n",
    "nombre_normalizado = normalizar(nombre)\n",
    "print(f\"Nombre normalizado: {nombre_normalizado}\")"
   ]
  },
  {
   "cell_type": "code",
   "execution_count": null,
   "id": "5c142aab",
   "metadata": {},
   "outputs": [],
   "source": [
    "nombre = input(\"¿Cuál es tu nombre? \")\n",
    "año_nacimiento = int(input(\"¿En qué año naciste? \"))\n",
    "\n",
    "edad = 2024 - año_nacimiento  \n",
    "\n",
    "print(f\"Hola {nombre}, tienes {edad} años.\")"
   ]
  },
  {
   "cell_type": "code",
   "execution_count": null,
   "id": "fc3382e2",
   "metadata": {},
   "outputs": [],
   "source": [
    "nombre = \"Cristian\"\n",
    "edad = 20\n",
    "\n",
    "mensaje = f\"Hola {nombre}, tienes {edad} años.\"\n",
    "print(mensaje)"
   ]
  },
  {
   "cell_type": "code",
   "execution_count": 1,
   "id": "5018fc85",
   "metadata": {},
   "outputs": [
    {
     "name": "stdout",
     "output_type": "stream",
     "text": [
      "Promedio: 262.00\n",
      "Nota mínima: 55.00\n",
      "Nota máxima: 665.00\n",
      "Aprobado\n"
     ]
    }
   ],
   "source": [
    "nota1 = float(input(\"Ingrese la nota 1: \"))\n",
    "nota2 = float(input(\"Ingrese la nota 2: \"))\n",
    "nota3 = float(input(\"Ingrese la nota 3: \"))\n",
    "\n",
    "promedio = (nota1 + nota2 + nota3) / 3\n",
    "\n",
    "print(f\"Promedio: {promedio:.2f}\")\n",
    "print(f\"Nota mínima: {min(nota1, nota2, nota3):.2f}\")\n",
    "print(f\"Nota máxima: {max(nota1, nota2, nota3):.2f}\")\n",
    "\n",
    "if promedio >= 60:\n",
    "    print(\"Aprobado\")\n",
    "else:\n",
    "    print(\"No aprobado\")"
   ]
  }
 ],
 "metadata": {
  "kernelspec": {
   "display_name": "Python 3",
   "language": "python",
   "name": "python3"
  },
  "language_info": {
   "codemirror_mode": {
    "name": "ipython",
    "version": 3
   },
   "file_extension": ".py",
   "mimetype": "text/x-python",
   "name": "python",
   "nbconvert_exporter": "python",
   "pygments_lexer": "ipython3",
   "version": "3.13.7"
  }
 },
 "nbformat": 4,
 "nbformat_minor": 5
}
