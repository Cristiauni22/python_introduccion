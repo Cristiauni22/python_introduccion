{
 "cells": [
  {
   "cell_type": "markdown",
   "metadata": {},
   "source": [
    "# 8) Manejo de errores (excepciones)\n",
    "\n",
    "## ¿Qué es?\n",
    "Un **mecanismo para responder a fallos** en tiempo de ejecución sin romper el programa.\n",
    "\n",
    "## ¿Para qué se usa?\n",
    "Para **procesar entradas inválidas, errores de cálculo o recursos faltantes**.\n",
    "\n",
    "## Bloques útiles\n",
    "- `try`/`except` para capturar excepciones\n",
    "- `else` para código que corre si no hubo excepción\n",
    "- `finally` para limpieza\n",
    "- `raise` para lanzar errores propios\n"
   ]
  },
  {
   "cell_type": "code",
   "execution_count": null,
   "metadata": {},
   "outputs": [],
   "source": [
    "try:\n",
    "    n = int(\"42\")\n",
    "    print(\"Doble:\", n*2)\n",
    "except ValueError:\n",
    "    print(\"Entrada no válida.\")\n",
    "\n",
    "try:\n",
    "    x = 10 / 0\n",
    "except ZeroDivisionError:\n",
    "    print(\"No puedes dividir por cero.\")\n"
   ]
  },
  {
   "cell_type": "markdown",
   "metadata": {},
   "source": [
    "### Ejercicios\n",
    "- E1: Conversor robusto `str -> int` que reintente si falla.\n",
    "- E2: Calculadora con manejo de `ZeroDivisionError` y `ValueError`.\n",
    "- E3: Lector de opción de menú que solo acepta `1..4`.\n",
    "\n",
    "### Reto extra\n",
    "`leer_float(msg, intentos=3)` que reintente y lance excepción personalizada si se agotan intentos.\n"
   ]
  },
  {
   "cell_type": "code",
   "execution_count": null,
   "metadata": {},
   "outputs": [],
   "source": [
    "# Pista para el reto\n",
    "class IntentosAgotadosError(Exception):\n",
    "    pass\n",
    "\n",
    "def leer_float(msg, intentos=3):\n",
    "    for i in range(intentos):\n",
    "        try:\n",
    "            return float(input(msg))\n",
    "        except ValueError:\n",
    "            print(\"No es número. Intenta de nuevo.\")\n",
    "    raise IntentosAgotadosError(\"Se agotaron los intentos.\")\n"
   ]
  },
  {
   "cell_type": "code",
   "execution_count": null,
   "id": "10459102",
   "metadata": {},
   "outputs": [],
   "source": [
    "opcion = int(input(\"Ingrese una opción (1-4): \"))\n",
    "\n",
    "if opcion == 1:\n",
    "    print(\"Opción 1 color Amarillo \")\n",
    "elif opcion == 2:\n",
    "    print(\"Opción 2 color azul \")\n",
    "elif opcion == 3:\n",
    "    print( \"color 3 Rojo\")\n",
    "elif opcion == 4:\n",
    "    print(\"Opción 4 color  Verde\")\n",
    "else:\n",
    "    print(\"Opción inválida\")"
   ]
  },
  {
   "cell_type": "code",
   "execution_count": null,
   "id": "12cb3cd7",
   "metadata": {},
   "outputs": [],
   "source": [
    "for intento in range(3):\n",
    "    try:\n",
    "        num = float(input(\"Ingrese un número: \"))\n",
    "        print(\"Número ingresado:\", num)\n",
    "        break\n",
    "    except ValueError:\n",
    "        print(f\"Error. Intentos restantes: {2 - intento}\")\n",
    "else:\n",
    "    print(\"Se te acabaron los intentos. Vuelve a intentarlo.\")"
   ]
  },
  {
   "cell_type": "code",
   "execution_count": null,
   "id": "01887a82",
   "metadata": {},
   "outputs": [],
   "source": [
    "def calculadora():\n",
    "    while True:\n",
    "        print(\"Calculadora\")\n",
    "        print(\"1. Suma\")\n",
    "        print(\"2. Resta\")\n",
    "        print(\"3. Multiplicación\")\n",
    "        print(\"4. División\")\n",
    "        print(\"5. Salir\")\n",
    "\n",
    "        opcion = input(\"Ingrese una opción: \")\n",
    "\n",
    "        if opcion == \"5\":\n",
    "            break\n",
    "\n",
    "        try:\n",
    "            num1 = float(input(\"Ingrese el primer número: \"))\n",
    "            num2 = float(input(\"Ingrese el segundo número: \"))\n",
    "\n",
    "            if opcion == \"1\":\n",
    "                resultado = num1 + num2\n",
    "                print(\"Resultado:\", resultado)\n",
    "            elif opcion == \"2\":\n",
    "                resultado = num1 - num2\n",
    "                print(\"Resultado:\", resultado)\n",
    "            elif opcion == \"3\":\n",
    "                resultado = num1 * num2\n",
    "                print(\"Resultado:\", resultado)\n",
    "            elif opcion == \"4\":\n",
    "                if num2 == 0:\n",
    "                    raise ZeroDivisionError\n",
    "                resultado = num1 / num2\n",
    "                print(\"Resultado:\", resultado)\n",
    "            else:\n",
    "                print(\"Opción inválida. Intente de nuevo.\")\n",
    "        except ValueError:\n",
    "            print(\"No es un número válido. Intente de nuevo.\")\n",
    "        except ZeroDivisionError:\n",
    "            print(\"No se puede dividir por cero. Intente de nuevo.\")\n",
    "        except Exception as e:\n",
    "            print(\"Error inesperado:\", str(e))\n",
    "\n",
    "calculadora()"
   ]
  },
  {
   "cell_type": "code",
   "execution_count": 2,
   "id": "dcd59378",
   "metadata": {},
   "outputs": [
    {
     "name": "stdout",
     "output_type": "stream",
     "text": [
      "Número ingresado: 13\n"
     ]
    }
   ],
   "source": [
    "while True:\n",
    "    try:\n",
    "        numero = int(input(\"Ingrese un número: \"))\n",
    "        print(\"Número ingresado:\", numero)\n",
    "        break\n",
    "    except ValueError:\n",
    "        print(\"No es un número válido. Intente de nuevo.\")"
   ]
  }
 ],
 "metadata": {
  "kernelspec": {
   "display_name": "Python 3",
   "language": "python",
   "name": "python3"
  },
  "language_info": {
   "codemirror_mode": {
    "name": "ipython",
    "version": 3
   },
   "file_extension": ".py",
   "mimetype": "text/x-python",
   "name": "python",
   "nbconvert_exporter": "python",
   "pygments_lexer": "ipython3",
   "version": "3.13.7"
  }
 },
 "nbformat": 4,
 "nbformat_minor": 5
}
