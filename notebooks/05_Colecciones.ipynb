{
 "cells": [
  {
   "cell_type": "markdown",
   "metadata": {},
   "source": [
    "# 5) Colecciones: listas, tuplas y diccionarios\n",
    "\n",
    "## ¿Qué son?\n",
    "Estructuras para **agrupar datos**: secuencias (`list`, `tuple`) y mapeos (`dict`).\n",
    "\n",
    "## ¿Para qué se usan?\n",
    "Para **organizar, acceder y transformar** conjuntos de valores.\n",
    "\n",
    "## Puntos clave\n",
    "- `list` (mutable) — métodos como `append`, `pop`, `sort`.\n",
    "- `tuple` (inmutable) — útil para datos que no cambian.\n",
    "- `dict` (clave→valor) — acceso por clave y métodos `.items()`, `.keys()`.\n"
   ]
  },
  {
   "cell_type": "code",
   "execution_count": null,
   "metadata": {},
   "outputs": [],
   "source": [
    "comidas = [\"arepa\", \"ajiaco\", \"bandeja\"]\n",
    "comidas.append(\"sancocho\")\n",
    "print(\"Lista:\", comidas)\n",
    "\n",
    "punto = (10, 20)\n",
    "print(\"Tupla:\", punto[0], punto[1])\n",
    "\n",
    "persona = {\"nombre\": \"Ada\", \"edad\": 28, \"ciudad\": \"Bogotá\"}\n",
    "persona[\"edad\"] += 1\n",
    "for k, v in persona.items():\n",
    "    print(k, \"->\", v)\n"
   ]
  },
  {
   "cell_type": "markdown",
   "metadata": {},
   "source": [
    "### Ejercicios\n",
    "- E1: Lista de 5 números, calcula suma y promedio.\n",
    "- E2: Diccionario de 3 contactos (nombre→tel), consulta por nombre.\n",
    "- E3: Convierte lista de pares `(clave, valor)` en `dict` y recórrelo.\n",
    "\n",
    "### Reto extra\n",
    "**Inventario simple**: lista de dicts con `{\"producto\",\"precio\",\"stock\"}`. Muestra:\n",
    "- Total del inventario.\n",
    "- Producto más caro.\n"
   ]
  },
  {
   "cell_type": "code",
   "execution_count": null,
   "id": "2a3f03a5",
   "metadata": {},
   "outputs": [],
   "source": [
    "numeros = list()\n",
    "for i in range(5):\n",
    "    numero = int(input(\"Ingrese un número: \"))\n",
    "    numeros.append(numero)\n",
    "\n",
    "suma = sum(numeros)\n",
    "promedio = suma / len(numeros)\n",
    "\n",
    "print(\"Lista de números:\", numeros)\n",
    "print(\"Suma:\", suma)\n",
    "print(\"Promedio:\", promedio)"
   ]
  },
  {
   "cell_type": "code",
   "execution_count": null,
   "id": "0cec0cd9",
   "metadata": {},
   "outputs": [],
   "source": [
    "numeros = list()\n",
    "for i in range(5):\n",
    "    numero = int(input(\"Ingrese un número: \"))\n",
    "    numeros.append(numero)\n",
    "\n",
    "suma = sum(numeros)\n",
    "promedio = suma / len(numeros)\n",
    "\n",
    "print(\"Lista de números:\", numeros)\n",
    "print(\"Suma:\", suma)\n",
    "print(\"Promedio:\", promedio)"
   ]
  },
  {
   "cell_type": "code",
   "execution_count": null,
   "id": "b14cd75d",
   "metadata": {},
   "outputs": [],
   "source": [
    "contactos = {\n",
    "    \"David\": \"123456\",\n",
    "    \"Juliana\": \"789012\",\n",
    "    \"María\": \"345678\"\n",
    "}\n",
    "\n",
    "nombre = input(\"Ingrese el nombre del contacto: \")\n",
    "\n",
    "if nombre in contactos:\n",
    "    print(f\"Teléfono de {nombre}: {contactos[nombre]}\")\n",
    "else:\n",
    "    print(\"Contacto no encontrado\")"
   ]
  },
  {
   "cell_type": "code",
   "execution_count": null,
   "id": "6b6e057c",
   "metadata": {},
   "outputs": [],
   "source": [
    "pares = [(\"nombre\", \"Cristian\"), (\"edad\", 20), (\"ciudad\", \"Bogotá\")]\n",
    "\n",
    "diccionario = dict(pares)\n",
    "\n",
    "for clave, valor in diccionario.items():\n",
    "    print(f\"{clave}: {valor}\")"
   ]
  },
  {
   "cell_type": "code",
   "execution_count": null,
   "id": "a56b8fff",
   "metadata": {},
   "outputs": [],
   "source": []
  }
 ],
 "metadata": {
  "kernelspec": {
   "display_name": "Python 3",
   "language": "python",
   "name": "python3"
  },
  "language_info": {
   "name": "python",
   "version": "3.x"
  }
 },
 "nbformat": 4,
 "nbformat_minor": 5
}
