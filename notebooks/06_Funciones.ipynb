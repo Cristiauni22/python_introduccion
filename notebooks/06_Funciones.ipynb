{
 "cells": [
  {
   "cell_type": "markdown",
   "metadata": {},
   "source": [
    "# 6) Funciones\n",
    "\n",
    "## ¿Qué son?\n",
    "Bloques reutilizables de código que **reciben parámetros** y **devuelven resultados**.\n",
    "\n",
    "## ¿Para qué se usan?\n",
    "Para **encapsular lógica**, evitar duplicación y mejorar claridad y pruebas.\n",
    "\n",
    "## Ideas clave\n",
    "- `def nombre(param...) -> retorno`\n",
    "- Valores por defecto, *docstrings*, pruebas simples\n",
    "- Ámbito: variables locales vs globales\n"
   ]
  },
  {
   "cell_type": "code",
   "execution_count": null,
   "metadata": {},
   "outputs": [],
   "source": [
    "def saluda(nombre: str) -> str:\n",
    "    \"\"\"Devuelve un saludo personalizado.\"\"\"\n",
    "    return f\"Hola, {nombre}!\"\n",
    "\n",
    "def potencia(base: float, exp: int = 2) -> float:\n",
    "    return base ** exp\n",
    "\n",
    "print(saluda(\"Ada\"))\n",
    "print(\"Potencia:\", potencia(3), potencia(2, 5))\n"
   ]
  },
  {
   "cell_type": "markdown",
   "metadata": {},
   "source": [
    "### Ejercicios\n",
    "- E1: `suma(a,b)` y `es_par(n)`.\n",
    "- E2: `promedio(numeros: list[float]) -> float`.\n",
    "- E3: `normaliza_nombre(s)`: quita espacios y capitaliza.\n",
    "\n",
    "### Reto extra\n",
    "`filtra_mayores(lista, umbral)` y `transforma(lista, f)` (simulan `filter`/`map`).\n"
   ]
  },
  {
   "cell_type": "code",
   "execution_count": null,
   "metadata": {},
   "outputs": [],
   "source": [
    "# Pista para promedio\n",
    "def promedio(nums):\n",
    "    return sum(nums) / len(nums) if nums else 0.0\n",
    "\n",
    "print(\"Promedio de [1,2,3]:\", promedio([1,2,3]))\n"
   ]
  },
  {
   "cell_type": "code",
   "execution_count": null,
   "id": "e96a6ea1",
   "metadata": {},
   "outputs": [],
   "source": [
    "def es_par(n):\n",
    "    return n % 2 == 0\n",
    "\n",
    "A = int(input(\"Ingrese A: \"))\n",
    "B = int(input(\"Ingrese B: \"))\n",
    "\n",
    "suma = A + B\n",
    "print(f\"{A} + {B} = {suma}\")\n",
    "print(f\"¿La suma es par? {es_par(suma)}\")\n"
   ]
  },
  {
   "cell_type": "code",
   "execution_count": null,
   "id": "567201cb",
   "metadata": {},
   "outputs": [],
   "source": [
    "def calcular_promedio():\n",
    "    numeros = [1, 2, 3, 4, 5]\n",
    "    suma = sum(numeros)\n",
    "    cantidad = len(numeros)\n",
    "    promedio = suma / cantidad\n",
    "    return promedio\n",
    "\n",
    "print(f\"El promedio es: {calcular_promedio()}\")"
   ]
  },
  {
   "cell_type": "code",
   "execution_count": null,
   "id": "0ef96483",
   "metadata": {},
   "outputs": [],
   "source": [
    "def normalizar(nombre):\n",
    "    nombre = nombre.strip().title()\n",
    "    return nombre\n",
    "\n",
    "nombre = \" cristian david \"\n",
    "nombre_normalizado = normalizar(nombre)\n",
    "print(f\"Nombre normalizado: {nombre_normalizado}\")"
   ]
  },
  {
   "cell_type": "code",
   "execution_count": 1,
   "id": "584797fb",
   "metadata": {},
   "outputs": [
    {
     "name": "stdout",
     "output_type": "stream",
     "text": [
      "Lista filtrada: [6, 7, 8, 9]\n",
      "Lista transformada: [12, 14, 16, 18]\n"
     ]
    }
   ],
   "source": [
    "lista = [1, 2, 3, 4, 5, 6, 7, 8, 9]\n",
    "umbral = 5\n",
    "\n",
    "lista_filtrada = [x for x in lista if x > umbral]\n",
    "lista_transformada = [x * 2 for x in lista_filtrada]\n",
    "\n",
    "print(\"Lista filtrada:\", lista_filtrada)\n",
    "print(\"Lista transformada:\", lista_transformada)"
   ]
  }
 ],
 "metadata": {
  "kernelspec": {
   "display_name": "Python 3",
   "language": "python",
   "name": "python3"
  },
  "language_info": {
   "codemirror_mode": {
    "name": "ipython",
    "version": 3
   },
   "file_extension": ".py",
   "mimetype": "text/x-python",
   "name": "python",
   "nbconvert_exporter": "python",
   "pygments_lexer": "ipython3",
   "version": "3.13.7"
  }
 },
 "nbformat": 4,
 "nbformat_minor": 5
}
