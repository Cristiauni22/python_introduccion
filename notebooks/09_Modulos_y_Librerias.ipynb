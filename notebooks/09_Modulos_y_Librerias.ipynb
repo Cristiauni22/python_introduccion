{
 "cells": [
  {
   "cell_type": "markdown",
   "metadata": {},
   "source": [
    "# 9) Módulos y librerías estándar\n",
    "\n",
    "## ¿Qué son?\n",
    "Archivos y paquetes con **funciones reutilizables**. La **librería estándar** ofrece utilidades listas para usar.\n",
    "\n",
    "## ¿Para qué se usan?\n",
    "Para **no reinventar la rueda**: matemáticas, fechas, aleatoriedad, sistemas de archivos, etc.\n",
    "\n",
    "## Importar\n",
    "- `import modulo`\n",
    "- `from modulo import funcion`\n",
    "- Alias: `import modulo as m`\n"
   ]
  },
  {
   "cell_type": "code",
   "execution_count": null,
   "metadata": {},
   "outputs": [],
   "source": [
    "import math\n",
    "from datetime import datetime\n",
    "import random as rnd\n",
    "\n",
    "print(\"π ~\", math.pi, \"| sqrt(49) =\", math.sqrt(49))\n",
    "print(\"Ahora:\", datetime.now().strftime(\"%Y-%m-%d %H:%M\"))\n",
    "print(\"Aleatorio 1..10:\", rnd.randint(1,10))\n"
   ]
  },
  {
   "cell_type": "markdown",
   "metadata": {},
   "source": [
    "### Ejercicios\n",
    "- E1: Simula 100 lanzamientos de dado y cuenta frecuencias (dict).\n",
    "- E2: Calcula hipotenusa con `math.hypot(a,b)`.\n",
    "- E3: ¿Cuántos días faltan para fin de año?\n",
    "\n",
    "### Reto extra\n",
    "Juego **Piedra, Papel o Tijera** contra la máquina (mejor de 3).\n"
   ]
  },
  {
   "cell_type": "code",
   "execution_count": null,
   "id": "3bc595d3",
   "metadata": {},
   "outputs": [],
   "source": [
    "import random\n",
    "\n",
    "frecuencias = {1: 0, 2: 0, 3: 0, 4: 0, 5: 0, 6: 0}\n",
    "\n",
    "for _ in range(100):\n",
    "    resultado = random.randint(1, 6)\n",
    "    frecuencias[resultado] += 1\n",
    "\n",
    "print(\"Frecuencias de cada resultado:\")"
   ]
  },
  {
   "cell_type": "code",
   "execution_count": null,
   "id": "a4d1fcca",
   "metadata": {},
   "outputs": [],
   "source": [
    "import math\n",
    "\n",
    "a = float(input(\"Ingrese el valor de a: \"))\n",
    "b = float(input(\"Ingrese el valor de b: \"))\n",
    "hipotenusa = math.sqrt(a**2 + b**2)\n",
    "print(f\"La hipotenusa es: {hipotenusa:.2f}\")"
   ]
  },
  {
   "cell_type": "code",
   "execution_count": null,
   "id": "c39509a3",
   "metadata": {},
   "outputs": [],
   "source": [
    "from datetime import datetime\n",
    "\n",
    "fecha_objetivo = datetime(2025, 12, 31)  \n",
    "fecha_actual = datetime.now()\n",
    "\n",
    "dias_faltantes = (fecha_objetivo - fecha_actual)\n",
    "\n",
    "print(f\"Faltan {dias_faltantes} días para el fin de año.\")"
   ]
  },
  {
   "cell_type": "code",
   "execution_count": 4,
   "id": "1ab50ba3",
   "metadata": {},
   "outputs": [
    {
     "name": "stdout",
     "output_type": "stream",
     "text": [
      "\n",
      "Partida 1:\n",
      "\n",
      "Jugador eligió: piedra\n",
      "Máquina eligió: tijera\n",
      "Jugador gana esta partida porque piedra le gana a tijera\n",
      "\n",
      "Partida 2:\n",
      "\n",
      "Jugador eligió: papel\n",
      "Máquina eligió: papel\n",
      "Empate\n",
      "\n",
      "Partida 3:\n",
      "\n",
      "Jugador eligió: pael\n",
      "Máquina eligió: papel\n",
      "Máquina gana esta partida porque papel le gana a pael\n",
      "\n",
      "Ganadas Jugador: 1\n",
      "Ganadas Máquina: 1\n",
      "La serie termina en empate\n"
     ]
    }
   ],
   "source": [
    "import random\n",
    "\n",
    "ganadas_jugador = 0\n",
    "ganadas_maquina = 0\n",
    "\n",
    "for i in range(3):\n",
    "    print(f\"\\nPartida {i+1}:\")\n",
    "    jugador = input(\"¿Piedra, papel o tijera? \").lower()\n",
    "    maquina = random.choice([\"piedra\", \"papel\", \"tijera\"])\n",
    "\n",
    "    print(f\"\\nJugador eligió: {jugador}\")\n",
    "    print(f\"Máquina eligió: {maquina}\")\n",
    "\n",
    "    if jugador == maquina:\n",
    "        print(\"Empate\")\n",
    "    elif (jugador == \"piedra\" and maquina == \"tijera\") or \\\n",
    "         (jugador == \"papel\" and maquina == \"piedra\") or \\\n",
    "         (jugador == \"tijera\" and maquina == \"papel\"):\n",
    "        print(\"Jugador gana esta partida porque\", jugador, \"le gana a\", maquina)\n",
    "        ganadas_jugador += 1\n",
    "    else:\n",
    "        print(\"Máquina gana esta partida porque\", maquina, \"le gana a\", jugador)\n",
    "        ganadas_maquina += 1\n",
    "\n",
    "print(f\"\\nGanadas Jugador: {ganadas_jugador}\")\n",
    "print(f\"Ganadas Máquina: {ganadas_maquina}\")\n",
    "\n",
    "if ganadas_jugador > ganadas_maquina:\n",
    "    print(\"Jugador gana la serie!\")\n",
    "elif ganadas_maquina > ganadas_jugador:\n",
    "    print(\"Máquina gana la serie!\")\n",
    "else:\n",
    "    print(\"La serie termina en empate\")"
   ]
  }
 ],
 "metadata": {
  "kernelspec": {
   "display_name": "Python 3",
   "language": "python",
   "name": "python3"
  },
  "language_info": {
   "codemirror_mode": {
    "name": "ipython",
    "version": 3
   },
   "file_extension": ".py",
   "mimetype": "text/x-python",
   "name": "python",
   "nbconvert_exporter": "python",
   "pygments_lexer": "ipython3",
   "version": "3.13.7"
  }
 },
 "nbformat": 4,
 "nbformat_minor": 5
}
